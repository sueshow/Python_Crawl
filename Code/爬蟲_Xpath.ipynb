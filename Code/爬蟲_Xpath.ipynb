{
 "cells": [
  {
   "cell_type": "markdown",
   "id": "3b11deae",
   "metadata": {},
   "source": [
    "# Xpath"
   ]
  },
  {
   "cell_type": "markdown",
   "id": "a9b4fa10",
   "metadata": {},
   "source": [
    "## ithelp"
   ]
  },
  {
   "cell_type": "code",
   "execution_count": 1,
   "id": "e1a06dbc",
   "metadata": {},
   "outputs": [],
   "source": [
    "import requests\n",
    "from lxml import etree"
   ]
  },
  {
   "cell_type": "code",
   "execution_count": 2,
   "id": "6e45a30b",
   "metadata": {
    "scrolled": true
   },
   "outputs": [],
   "source": [
    "url = 'https://ithelp.ithome.com.tw/'\n",
    "headers = {\n",
    "    'user-agent': 'Mozilla/5.0 (Windows NT 10.0; Win64; x64) AppleWebKit/537.36 (KHTML, like Gecko) Chrome/106.0.0.0 Safari/537.36'\n",
    "}\n",
    "\n",
    "# 請求並接收\n",
    "res = requests.get(url, headers=headers)\n",
    "# response.status_code 回傳狀態 200,404,...\n",
    "# response.content 回傳內容編碼 (純二進制)\n",
    "# response.text 回傳Unicode型數據\n",
    "\n",
    "# 解析內容 (轉為string)\n",
    "content = res.content.decode()\n",
    "\n",
    "# 把string轉為hmtl node tree，回傳根節點\n",
    "html = etree.HTML(content)\n",
    "#print(content)"
   ]
  },
  {
   "cell_type": "markdown",
   "id": "7b8b7aa8",
   "metadata": {},
   "source": [
    "* XPath (XML Path Language) 是一種用來尋找XML文件中某個節點(node)位置的查詢語言\n",
    "* XPath 使用類似路徑的語法來尋找節點\n",
    "* XPath 一共有七種節點：element, attribute, text, namespace, processing-instruction, comment, document\n",
    "* 注意：XPath 規則陣列自 1 開始算起(不是0)"
   ]
  },
  {
   "cell_type": "code",
   "execution_count": 3,
   "id": "7779bf25",
   "metadata": {},
   "outputs": [
    {
     "data": {
      "text/plain": [
       "['相機的參數']"
      ]
     },
     "execution_count": 3,
     "metadata": {},
     "output_type": "execute_result"
    }
   ],
   "source": [
    "#title = html.xpath(\"//div[@class='qa-list'][1]//h3[@class='qa-list__title']/a/text()\")\n",
    "title = html.xpath('/html/body/div[2]/div/div/div[1]/div[3]/div[1]/div[2]/h3/a/text()')\n",
    "title"
   ]
  },
  {
   "cell_type": "code",
   "execution_count": 4,
   "id": "eaebd623",
   "metadata": {},
   "outputs": [
    {
     "data": {
      "text/plain": [
       "['相機的參數',\n",
       " '如何在Ubuntu（GUI介面）直接編輯、管理 var/www/html內的網頁資料',\n",
       " '(更)C++題目 x^x+y^y+z^z==h^h 邏輯錯誤',\n",
       " '輸入git add . 之後 這樣是成功了嗎',\n",
       " '想利用python抓取資料，放到資料庫，每一次抓取都跟上一次比較!',\n",
       " 'python 如何取得「串列中的串列」的len？',\n",
       " 'Python 差集 新手小問題',\n",
       " '數學不好，看到這樣的題目不知道怎麼解',\n",
       " 'Win10更新',\n",
       " 'Windows出問題',\n",
       " '如何發送私人訊息',\n",
       " '鼎新EasyFlow結合ERP，流程設計',\n",
       " ' 鼎新EasyFlow結合ERP流程設計',\n",
       " '網域內共享資料夾，是否能做到只瀏覽不列印',\n",
       " 'outlook 介面問題',\n",
       " 'Unity裡的button與fungus問題',\n",
       " 'Hyper v映像檔太大,硬碟快爆了',\n",
       " 'C# DataGridView英文過長時無法自動換行',\n",
       " 'VBA 如何到另一個檔案的同名稱工作表\\u3000&工作表逐一套用篩選',\n",
       " '如何layout page 不要submit 而只更新@RenderBody() 的資料',\n",
       " 'Legacy與UEFI與AMI的差別在哪?',\n",
       " 'indesign 中有大量電話號碼 ,怎麼設定(整批) ? 在匯出PDF後, 手機瀏覽PDF,點擊電話可以出現撥號.',\n",
       " '不懂的語言如何評估操作關鍵字？',\n",
       " 'win11印表機指令安裝方式',\n",
       " 'WIN2019資料夾停用繼承問題',\n",
       " '請問firewalld 要怎紀錄 LOG ',\n",
       " '徵求ODOO有客制化經驗外包顧問',\n",
       " \"C# char'1' to int'49' , Why! \",\n",
       " 'Vue&Django&Apache 用戶端執行API時間過長導致網路錯誤',\n",
       " 'java 1A2B 重複數字檢測']"
      ]
     },
     "execution_count": 4,
     "metadata": {},
     "output_type": "execute_result"
    }
   ],
   "source": [
    "#title = html.xpath(\"//div[@class='qa-list']//h3[@class='qa-list__title']/a/text()\")\n",
    "title = html.xpath('/html/body/div[2]/div/div/div[1]/div[3]/div/div[2]/h3/a/text()')\n",
    "title"
   ]
  },
  {
   "cell_type": "markdown",
   "id": "bea67797",
   "metadata": {},
   "source": [
    "### 可以拿到圖片url"
   ]
  },
  {
   "cell_type": "code",
   "execution_count": 5,
   "id": "6410a596",
   "metadata": {},
   "outputs": [],
   "source": [
    "import os"
   ]
  },
  {
   "cell_type": "code",
   "execution_count": 6,
   "id": "7c57d48c",
   "metadata": {},
   "outputs": [],
   "source": [
    "url = 'https://ithelp.ithome.com.tw/questions/10200170'\n",
    "headers = {\n",
    "    'user-agent': 'Mozilla/5.0 (Windows NT 10.0; Win64; x64) AppleWebKit/537.36 (KHTML, like Gecko) Chrome/106.0.0.0 Safari/537.36'\n",
    "}\n",
    "\n",
    "res = requests.get(url, headers=headers)\n",
    "html = etree.HTML(res.content)\n",
    "\n",
    "imgs = html.xpath('//div[@class=\"markdown\"]//img/@src')"
   ]
  },
  {
   "cell_type": "code",
   "execution_count": 7,
   "id": "f433b6bf",
   "metadata": {},
   "outputs": [],
   "source": [
    "img_dir = 'D:/GitHub_彙整/GitHub_2022_爬蟲_591租屋/Imgs/'\n",
    "\n",
    "# 如果資料夾不存在就新增\n",
    "if(os.path.isdir(img_dir) == False):\n",
    "    os.mkdir(img_dir)\n",
    "\n",
    "#遍歷圖片 並 二進制寫入(wb)\n",
    "for img in imgs:\n",
    "    file_name = img.split('/')[-1]\n",
    "    file_content = requests.get(img).content\n",
    "    with open(img_dir+file_name,'wb') as f:\n",
    "        f.write(file_content)"
   ]
  },
  {
   "cell_type": "markdown",
   "id": "1337053c",
   "metadata": {},
   "source": [
    "## 範例說明"
   ]
  },
  {
   "cell_type": "code",
   "execution_count": 11,
   "id": "d3bf2c0e",
   "metadata": {},
   "outputs": [],
   "source": [
    "html_doc =\"\"\"\n",
    "<html>\n",
    "    <head></head>\n",
    "    <body>\n",
    "        <li>\n",
    "            <a href=\"/book_16860.html\" title=\"總裁的新鮮小妻\">\n",
    "                <img src=\"/16860s.jpg\">\n",
    "            </a>\n",
    "            <img src=\"/kukuku/images/only.png\" class=\"topss png_bg\">\n",
    "                <img src=\"abc.png\" class=\"topss png_bg\">\n",
    "            <a href=\"/book_16860.html\">總裁的新鮮小妻子</a>\n",
    "        </li>\n",
    "        <li>\n",
    "            <a href=\"/book_16861.html\" title=\"鬥神天下\">\n",
    "                <img src=\"/16861s.jpg\">\n",
    "            </a>\n",
    "            <img src=\"/kukuku/images/only.png\" class=\"topss png_bg\">\n",
    "            <img src=\"def.png\" class=\"topss png_bg\">\n",
    "            <a href=\"/book_16861.html\">鬥神天下</a>\n",
    "        </li>\n",
    "\n",
    "    </body>\n",
    "</html>\"\"\""
   ]
  },
  {
   "cell_type": "markdown",
   "id": "66b3fba2",
   "metadata": {},
   "source": [
    "#### 生成 HTML 的 DOM 樹"
   ]
  },
  {
   "cell_type": "code",
   "execution_count": 12,
   "id": "2842387d",
   "metadata": {},
   "outputs": [],
   "source": [
    "from lxml import etree\n",
    "\n",
    "page = etree.HTML(html_doc)"
   ]
  },
  {
   "cell_type": "markdown",
   "id": "ef538e54",
   "metadata": {},
   "source": [
    "#### 路徑查詢"
   ]
  },
  {
   "cell_type": "markdown",
   "id": "ab25d776",
   "metadata": {},
   "source": [
    "* 查詢當前的子節點"
   ]
  },
  {
   "cell_type": "code",
   "execution_count": 13,
   "id": "d115b480",
   "metadata": {},
   "outputs": [
    {
     "data": {
      "text/plain": [
       "[<Element head at 0x28e371c8d80>]"
      ]
     },
     "execution_count": 13,
     "metadata": {},
     "output_type": "execute_result"
    }
   ],
   "source": [
    "page.xpath('head')"
   ]
  },
  {
   "cell_type": "markdown",
   "id": "4164e0c0",
   "metadata": {},
   "source": [
    "* 在 html 下 head 節點才有 li"
   ]
  },
  {
   "cell_type": "code",
   "execution_count": 14,
   "id": "f0874e17",
   "metadata": {},
   "outputs": [
    {
     "data": {
      "text/plain": [
       "[]"
      ]
     },
     "execution_count": 14,
     "metadata": {},
     "output_type": "execute_result"
    }
   ],
   "source": [
    "page.xpath('li')"
   ]
  },
  {
   "cell_type": "markdown",
   "id": "6f630b64",
   "metadata": {},
   "source": [
    "* 從根節點進行查詢"
   ]
  },
  {
   "cell_type": "code",
   "execution_count": 15,
   "id": "2b6b22ce",
   "metadata": {},
   "outputs": [
    {
     "data": {
      "text/plain": [
       "[<Element html at 0x28e371819c0>]"
      ]
     },
     "execution_count": 15,
     "metadata": {},
     "output_type": "execute_result"
    }
   ],
   "source": [
    "page.xpath('/html')"
   ]
  },
  {
   "cell_type": "code",
   "execution_count": 18,
   "id": "3bb6667b",
   "metadata": {},
   "outputs": [
    {
     "data": {
      "text/plain": [
       "[]"
      ]
     },
     "execution_count": 18,
     "metadata": {},
     "output_type": "execute_result"
    }
   ],
   "source": [
    "page.xpath('/li')"
   ]
  },
  {
   "cell_type": "markdown",
   "id": "112949f6",
   "metadata": {},
   "source": [
    "* 從整個文件所有節點查詢"
   ]
  },
  {
   "cell_type": "code",
   "execution_count": 17,
   "id": "4746f55e",
   "metadata": {},
   "outputs": [
    {
     "data": {
      "text/plain": [
       "[<Element li at 0x28e371d1080>, <Element li at 0x28e371d17c0>]"
      ]
     },
     "execution_count": 17,
     "metadata": {},
     "output_type": "execute_result"
    }
   ],
   "source": [
    "page.xpath('//li')"
   ]
  },
  {
   "cell_type": "markdown",
   "id": "629c5cb5",
   "metadata": {},
   "source": [
    "* 選取當前節點的父節點"
   ]
  },
  {
   "cell_type": "code",
   "execution_count": 19,
   "id": "4a5c2bb8",
   "metadata": {},
   "outputs": [
    {
     "data": {
      "text/plain": [
       "[<Element body at 0x28e371d47c0>]"
      ]
     },
     "execution_count": 19,
     "metadata": {},
     "output_type": "execute_result"
    }
   ],
   "source": [
    "page.xpath('//li')[0].xpath('..')"
   ]
  },
  {
   "cell_type": "markdown",
   "id": "6f5ead53",
   "metadata": {},
   "source": [
    "* 選取屬性"
   ]
  },
  {
   "cell_type": "code",
   "execution_count": 20,
   "id": "a51a51df",
   "metadata": {},
   "outputs": [
    {
     "data": {
      "text/plain": [
       "['/book_16860.html']"
      ]
     },
     "execution_count": 20,
     "metadata": {},
     "output_type": "execute_result"
    }
   ],
   "source": [
    "page.xpath('//a')[1].xpath('@href')"
   ]
  },
  {
   "cell_type": "markdown",
   "id": "f1ad9d2f",
   "metadata": {},
   "source": [
    "#### 節點查詢"
   ]
  },
  {
   "cell_type": "markdown",
   "id": "5d5762c6",
   "metadata": {},
   "source": [
    "* 選取第一個 img 節點的 src 屬性"
   ]
  },
  {
   "cell_type": "code",
   "execution_count": 21,
   "id": "a5ccd0bf",
   "metadata": {},
   "outputs": [
    {
     "data": {
      "text/plain": [
       "['/16860s.jpg']"
      ]
     },
     "execution_count": 21,
     "metadata": {},
     "output_type": "execute_result"
    }
   ],
   "source": [
    "page.xpath('//li[1]/a[1]/img[1]/@src')"
   ]
  },
  {
   "cell_type": "markdown",
   "id": "e929ea68",
   "metadata": {},
   "source": [
    "* 選取所有符合 li 節點的第一個節點"
   ]
  },
  {
   "cell_type": "code",
   "execution_count": 24,
   "id": "c6862808",
   "metadata": {},
   "outputs": [
    {
     "data": {
      "text/plain": [
       "[<Element li at 0x28e371d1080>]"
      ]
     },
     "execution_count": 24,
     "metadata": {},
     "output_type": "execute_result"
    }
   ],
   "source": [
    "page.xpath('//li[1]') #"
   ]
  },
  {
   "cell_type": "markdown",
   "id": "eae247f5",
   "metadata": {},
   "source": [
    "* 選取 li 節點下的第一個 img 節點"
   ]
  },
  {
   "cell_type": "code",
   "execution_count": 25,
   "id": "75e75409",
   "metadata": {},
   "outputs": [
    {
     "data": {
      "text/plain": [
       "[<Element img at 0x28e371d7600>,\n",
       " <Element img at 0x28e371d15c0>,\n",
       " <Element img at 0x28e371d10c0>,\n",
       " <Element img at 0x28e371d1400>]"
      ]
     },
     "execution_count": 25,
     "metadata": {},
     "output_type": "execute_result"
    }
   ],
   "source": [
    "page.xpath('//li//img[1]')"
   ]
  },
  {
   "cell_type": "markdown",
   "id": "1e3b7f1d",
   "metadata": {},
   "source": [
    "* 選取第二個元素開始的所有節點"
   ]
  },
  {
   "cell_type": "code",
   "execution_count": 26,
   "id": "096fdad5",
   "metadata": {},
   "outputs": [
    {
     "data": {
      "text/plain": [
       "[<Element img at 0x28e371cfac0>, <Element img at 0x28e371cf9c0>]"
      ]
     },
     "execution_count": 26,
     "metadata": {},
     "output_type": "execute_result"
    }
   ],
   "source": [
    "page.xpath('//img[position()>1]')"
   ]
  },
  {
   "cell_type": "markdown",
   "id": "165cfdbf",
   "metadata": {},
   "source": [
    "* 選取帶有指定屬性與指定值的節點"
   ]
  },
  {
   "cell_type": "code",
   "execution_count": 27,
   "id": "de2b978c",
   "metadata": {},
   "outputs": [
    {
     "data": {
      "text/plain": [
       "[<Element a at 0x28e371d1c00>]"
      ]
     },
     "execution_count": 27,
     "metadata": {},
     "output_type": "execute_result"
    }
   ],
   "source": [
    "page.xpath('//a[@title=\"鬥神天下\"]')"
   ]
  },
  {
   "cell_type": "markdown",
   "id": "bf41b93d",
   "metadata": {},
   "source": [
    "#### 未知節點的匹配"
   ]
  },
  {
   "cell_type": "markdown",
   "id": "67d518f0",
   "metadata": {},
   "source": [
    "* 匹配任何屬性節點"
   ]
  },
  {
   "cell_type": "code",
   "execution_count": 28,
   "id": "47d048e2",
   "metadata": {},
   "outputs": [
    {
     "data": {
      "text/plain": [
       "[<Element img at 0x28e371d7600>, <Element img at 0x28e371d10c0>]"
      ]
     },
     "execution_count": 28,
     "metadata": {},
     "output_type": "execute_result"
    }
   ],
   "source": [
    "page.xpath('//li/a/*')"
   ]
  },
  {
   "cell_type": "markdown",
   "id": "1e4c8ad3",
   "metadata": {},
   "source": [
    "* 匹配任何元素節點"
   ]
  },
  {
   "cell_type": "code",
   "execution_count": 29,
   "id": "77b9994a",
   "metadata": {},
   "outputs": [
    {
     "data": {
      "text/plain": [
       "[<Element a at 0x28e371c8b80>,\n",
       " <Element a at 0x28e371d4f40>,\n",
       " <Element a at 0x28e371d1c00>,\n",
       " <Element a at 0x28e371c8cc0>]"
      ]
     },
     "execution_count": 29,
     "metadata": {},
     "output_type": "execute_result"
    }
   ],
   "source": [
    "page.xpath('//li/a[@*]')"
   ]
  },
  {
   "cell_type": "markdown",
   "id": "04431f2c",
   "metadata": {},
   "source": [
    "#### 獲取節點中的文字"
   ]
  },
  {
   "cell_type": "markdown",
   "id": "053064a9",
   "metadata": {},
   "source": [
    "* 通過 `text()` 獲取某個節點中的文字"
   ]
  },
  {
   "cell_type": "code",
   "execution_count": 31,
   "id": "65ff39cf",
   "metadata": {},
   "outputs": [
    {
     "data": {
      "text/plain": [
       "['總裁的新鮮小妻子', '鬥神天下']"
      ]
     },
     "execution_count": 31,
     "metadata": {},
     "output_type": "execute_result"
    }
   ],
   "source": [
    "page.xpath('//li/a[2]/text()')"
   ]
  },
  {
   "cell_type": "markdown",
   "id": "c7c942c0",
   "metadata": {},
   "source": [
    "* 通過 `string()` 獲取某個節點中的文字"
   ]
  },
  {
   "cell_type": "code",
   "execution_count": 32,
   "id": "8e69394e",
   "metadata": {},
   "outputs": [
    {
     "data": {
      "text/plain": [
       "'總裁的新鮮小妻子'"
      ]
     },
     "execution_count": 32,
     "metadata": {},
     "output_type": "execute_result"
    }
   ],
   "source": [
    "page.xpath('string(//li[1]/a[2])')"
   ]
  },
  {
   "cell_type": "markdown",
   "id": "05b5cca1",
   "metadata": {},
   "source": [
    "#### 選取多個路徑"
   ]
  },
  {
   "cell_type": "code",
   "execution_count": 34,
   "id": "6fb67266",
   "metadata": {},
   "outputs": [
    {
     "data": {
      "text/plain": [
       "['/kukuku/images/only.png', '總裁的新鮮小妻子']"
      ]
     },
     "execution_count": 34,
     "metadata": {},
     "output_type": "execute_result"
    }
   ],
   "source": [
    "page.xpath('//li[1]/img[1]/@src | //li[1]/a[2]/text()')"
   ]
  },
  {
   "cell_type": "markdown",
   "id": "d0e44c1a",
   "metadata": {},
   "source": [
    "## 參考資料"
   ]
  },
  {
   "cell_type": "markdown",
   "id": "02097d1d",
   "metadata": {},
   "source": [
    "* [手把手python爬蟲教學(一): xpath](https://lufor129.medium.com/%E6%89%8B%E6%8A%8A%E6%89%8B%E5%AF%AB%E5%80%8B%E7%88%AC%E8%9F%B2%E6%95%99%E5%AD%B8-%E4%B8%80-xpath-518553fd676d)\n",
    "* [使用Xpath提取網頁內容](https://iter01.com/60618.html)\n",
    "* [python爬蟲必備XPath庫](https://pythonmana.com/2021/09/20210913133729065u.html)"
   ]
  },
  {
   "cell_type": "code",
   "execution_count": null,
   "id": "2d64c573",
   "metadata": {},
   "outputs": [],
   "source": [
    "# ------ 設定要前往的網址 ------\n",
    "url = 'https://www.facebook.com'  \n",
    "\n",
    "# ------ 透過Browser Driver 開啟 Chrome ------\n",
    "driver = webdriver.Chrome('D:\\GitHub_彙整\\GitHub_2022_爬蟲_591租屋\\chromedriver.exe')        \n",
    "\n",
    "# ------ 前往該網址 ------\n",
    "driver.get(url)     "
   ]
  },
  {
   "cell_type": "code",
   "execution_count": null,
   "id": "972e013d",
   "metadata": {},
   "outputs": [],
   "source": []
  }
 ],
 "metadata": {
  "kernelspec": {
   "display_name": "Python 3",
   "language": "python",
   "name": "python3"
  },
  "language_info": {
   "codemirror_mode": {
    "name": "ipython",
    "version": 3
   },
   "file_extension": ".py",
   "mimetype": "text/x-python",
   "name": "python",
   "nbconvert_exporter": "python",
   "pygments_lexer": "ipython3",
   "version": "3.8.8"
  }
 },
 "nbformat": 4,
 "nbformat_minor": 5
}
