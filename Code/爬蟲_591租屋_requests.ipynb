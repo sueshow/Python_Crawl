{
 "cells": [
  {
   "cell_type": "markdown",
   "id": "55db0301",
   "metadata": {},
   "source": [
    "## Requests"
   ]
  },
  {
   "cell_type": "code",
   "execution_count": 1,
   "id": "6c1b8250",
   "metadata": {},
   "outputs": [],
   "source": [
    "import requests\n",
    "from bs4 import BeautifulSoup"
   ]
  },
  {
   "cell_type": "code",
   "execution_count": 2,
   "id": "0c7aa8f0",
   "metadata": {},
   "outputs": [],
   "source": [
    "min_time = 2\n",
    "max_time = 4"
   ]
  },
  {
   "cell_type": "code",
   "execution_count": null,
   "id": "b8f825a3",
   "metadata": {},
   "outputs": [],
   "source": [
    "https://rent.591.com.tw/home/search/rsList?is_format_data=1&is_new_list=1&type=1&region=1"
   ]
  },
  {
   "cell_type": "code",
   "execution_count": 4,
   "id": "211d8b5d",
   "metadata": {},
   "outputs": [
    {
     "name": "stdout",
     "output_type": "stream",
     "text": [
      "請輸入縣市名稱：基隆市\n"
     ]
    }
   ],
   "source": [
    "#不完整\n",
    "input_city_nm = input('請輸入縣市名稱：')\n",
    "if input_city_nm=='基隆市':\n",
    "    city_num = 2\n",
    "    section = 'all'\n",
    "elif input_city_nm=='台北市':\n",
    "    city_num = 1\n",
    "elif input_city_nm=='新北市':\n",
    "    city_num = 3\n",
    "    section = [37,38]\n",
    "elif input_city_nm=='桃園市':\n",
    "    city_num = 6\n",
    "elif input_city_nm=='新竹市':\n",
    "    city_num = 4\n",
    "elif input_city_nm=='台中市':\n",
    "    city_num = 8\n",
    "elif input_city_nm=='台南市':\n",
    "    city_num = 15\n",
    "    section = [206,207,208,209,210,211]\n",
    "elif input_city_nm=='高雄市':\n",
    "    city_num = 17\n",
    "else:\n",
    "    print('請確認輸入的縣市是否正確')"
   ]
  },
  {
   "cell_type": "code",
   "execution_count": 10,
   "id": "30d8c7d8",
   "metadata": {},
   "outputs": [
    {
     "name": "stdout",
     "output_type": "stream",
     "text": [
      "<Response [405]>\n"
     ]
    }
   ],
   "source": [
    "url = 'https://rent.591.com.tw/home/search/rsList'\n",
    "params = 'is_format_data=1&is_new_list=1&type=1'\n",
    "headers = {\n",
    "    'Cookie': 'webp=1; newUI=1; new_rent_list_kind_test=0; urlJumpIp=21',\n",
    "    'X-CSRF-TOKEN': 'zdDqttyARmZwoMUDolowcduxMdkMQjD9ZsiQ1gPf',\n",
    "    'user-agent': 'Mozilla/5.0 (Windows NT 11.0; Win64; x64) AppleWebKit/537.36 (KHTML, like Gecko) Chrome/106.0.5249.61 Safari/537.36'\n",
    "}\n",
    "#get web requests\n",
    "res = requests.post(url, params=params, headers=headers)\n",
    "print(res)"
   ]
  },
  {
   "cell_type": "code",
   "execution_count": null,
   "id": "b43bb9fc",
   "metadata": {},
   "outputs": [],
   "source": [
    "node_data = []\n",
    "if res.status_code == 200:\n",
    "    soup = BeautifulSoup(res.text, 'html.parser')\n",
    "    # 利用 beautfiulsoup 的 find function 利用 css selector 定位 並撈出指定資料\n",
    "    node_data.append = soup.find('span', {'class':'addr'}).text\n",
    "    price = bs.find('div',{'class':'price'}).text.strip().split(' ')[0]\n",
    "    room_attrs = bs.find('ul',{'class':'attr'}).findAll('li')\n",
    "    for attr in room_attrs:\n",
    "        if attr.text.split('\\xa0:\\xa0\\xa0')[0]=='坪數':\n",
    "            size = attr.text.split('\\xa0:\\xa0\\xa0')[1]\n",
    "        elif attr.text.split('\\xa0:\\xa0\\xa0')[0]=='樓層':\n",
    "            floor = attr.text.split('\\xa0:\\xa0\\xa0')[1]\n",
    "        elif attr.text.split('\\xa0:\\xa0\\xa0')[0]=='型態':\n",
    "            room_type = attr.text.split('\\xa0:\\xa0\\xa0')[1]\n",
    "    room_descriptions = bs.find('ul',{'class':'labelList-1'}).findAll('li')\n",
    "    for description in room_descriptions:\n",
    "        if description.text.split('：')[0]=='格局':\n",
    "            form = description.text.split('：')[1]\n",
    "        if description.text.split('：')[0]=='車 位':\n",
    "            car = description.text.split('：')[1]\n",
    "print(soup)"
   ]
  },
  {
   "cell_type": "code",
   "execution_count": null,
   "id": "faa82735",
   "metadata": {},
   "outputs": [],
   "source": [
    "soup = BeautifulSoup(res.text, 'html.parser')\n",
    "a = soup.find_all('a')\n",
    "print(a)"
   ]
  },
  {
   "cell_type": "markdown",
   "id": "39a78482",
   "metadata": {},
   "source": [
    "## 參考資料"
   ]
  },
  {
   "cell_type": "markdown",
   "id": "b8c8c89e",
   "metadata": {},
   "source": [
    "* [591 租屋網 - 搜尋房屋與房屋詳情](https://blog.jiatool.com/posts/house591_spider/)"
   ]
  },
  {
   "cell_type": "code",
   "execution_count": null,
   "id": "4f57c509",
   "metadata": {},
   "outputs": [],
   "source": []
  }
 ],
 "metadata": {
  "kernelspec": {
   "display_name": "Python 3",
   "language": "python",
   "name": "python3"
  },
  "language_info": {
   "codemirror_mode": {
    "name": "ipython",
    "version": 3
   },
   "file_extension": ".py",
   "mimetype": "text/x-python",
   "name": "python",
   "nbconvert_exporter": "python",
   "pygments_lexer": "ipython3",
   "version": "3.8.8"
  }
 },
 "nbformat": 4,
 "nbformat_minor": 5
}
